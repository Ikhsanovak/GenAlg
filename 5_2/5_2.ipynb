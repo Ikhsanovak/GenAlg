{
 "cells": [
  {
   "cell_type": "code",
   "execution_count": 48,
   "metadata": {
    "pycharm": {
     "is_executing": false
    }
   },
   "outputs": [],
   "source": [
    "import json\n",
    "from numpy import genfromtxt\n",
    "from random import uniform, randint\n",
    "import random as rand\n",
    "\n",
    "def get_data():\n",
    "    with open('6.txt') as file:\n",
    "       max_weight, max_volume = [float(i) for i in next(file).split()]\n",
    "       data = genfromtxt('6.txt', delimiter=' ', dtype=(int, float, int), skip_header=1)\n",
    "    return {\n",
    "        'max_weight': int(max_weight),\n",
    "        'max_volume': float(max_volume),\n",
    "        'items': data.tolist()\n",
    "}\n",
    "\n",
    "all_data = get_data()"
   ]
  },
  {
   "cell_type": "markdown",
   "metadata": {},
   "source": [
    "Случайная генерация новой популяции"
   ]
  },
  {
   "cell_type": "code",
   "execution_count": 49,
   "metadata": {
    "pycharm": {
     "is_executing": false
    }
   },
   "outputs": [],
   "source": [
    "first_set = []\n",
    "def rand_gen():\n",
    "    for i in range(200):\n",
    "        res=[]\n",
    "        for i in range(0, 30):\n",
    "            res.append(rand.randrange(2))\n",
    "        first_set.append(res)\n",
    "    return first_set\n",
    "\n",
    "current_sets = rand_gen()"
   ]
  },
  {
   "cell_type": "markdown",
   "metadata": {},
   "source": [
    "Выбор особи для скрещивания методом рулетки"
   ]
  },
  {
   "cell_type": "code",
   "execution_count": 50,
   "metadata": {
    "pycharm": {
     "is_executing": false
    }
   },
   "outputs": [],
   "source": [
    "def fitness(individual, data):\n",
    "    weight, volume, price = 0, 0, 0\n",
    "    for (selected, item) in zip(individual, data):\n",
    "        if selected:\n",
    "            weight += int(item[0])\n",
    "            volume += int(item[1])\n",
    "            price += int(item[2])\n",
    "    if weight > all_data['max_weight'] or volume > all_data['max_volume']:\n",
    "        price = 0\n",
    "    return price\n",
    "\n",
    "def get_max_fitness(sets):\n",
    "    fitness_for_sets = []\n",
    "    for j in range(len(sets)):\n",
    "        fitness_for_sets.append(fitness(sets[j], all_data['items']))\n",
    "    return max(fitness_for_sets)\n",
    "\n",
    "def set_filter(sets):\n",
    "    final_sets = []\n",
    "    checking_percent = uniform(0, 1)\n",
    "    fitness_for_sets = []\n",
    "    for j in range(len(sets)):\n",
    "        fitness_for_sets.append(fitness(sets[j], all_data['items']))\n",
    "    max_fitness = max(fitness_for_sets)\n",
    "    for i in range(len(fitness_for_sets)):\n",
    "            fitness_for_sets[i] = fitness_for_sets[i] / max_fitness\n",
    "            if checking_percent < fitness_for_sets[i]:\n",
    "                final_sets.append(sets[i])\n",
    "    return final_sets"
   ]
  },
  {
   "cell_type": "markdown",
   "metadata": {},
   "source": [
    "Скрещивание (кроссинговер) между выбранными особями. Каждая особь скрещивается 1 раз за 1 поколение, 1 пара дает 2 потомка:3.1 многоточечный с 3мя точками"
   ]
  },
  {
   "cell_type": "code",
   "execution_count": 51,
   "metadata": {
    "pycharm": {
     "is_executing": false
    }
   },
   "outputs": [],
   "source": [
    "def cross(p1, p2):\n",
    "    points = []\n",
    "    for i in range(0, 3):\n",
    "        points.append(randint(1, len(p1)))\n",
    "    points.sort()\n",
    "    ch1 = p1[:points[0]] + p2[points[0]:points[1]] + p1[points[1]:points[2]] + p2[points[2]:]\n",
    "    ch2 = p2[:points[0]] + p1[points[0]:points[1]] + p2[points[1]:points[2]] + p1[points[2]:]\n",
    "    return ch1, ch2\n",
    "\n",
    "def set_cross(sets):\n",
    "    child_sets = []\n",
    "    for i in range(len(sets) - 1):\n",
    "        child_sets += cross(sets[i], sets[i + 1])\n",
    "    return child_sets"
   ]
  },
  {
   "cell_type": "markdown",
   "metadata": {},
   "source": [
    "Мутация"
   ]
  },
  {
   "cell_type": "code",
   "execution_count": 52,
   "metadata": {
    "pycharm": {
     "is_executing": false
    }
   },
   "outputs": [],
   "source": [
    "def mutation(individual):\n",
    "    count_zeroes = 0\n",
    "    for i in range(len(individual)):\n",
    "        if individual[i] == 0:\n",
    "            count_zeroes += 1\n",
    "    count_zeroes = int(count_zeroes * random())\n",
    "    cur = 0\n",
    "    for i in range(len(individual)):\n",
    "        if individual[i] == 0:\n",
    "            if cur == count_zeroes:\n",
    "                individual[i] = 1\n",
    "                return individual\n",
    "            else:\n",
    "                cur += 1\n",
    "    return individual\n",
    "\n",
    "\n",
    "def set_mutation(children):    \n",
    "    sets = []\n",
    "    final_len = round(len(sets) * 0.1)\n",
    "    changing_sets = sets[:final_len]\n",
    "    static_sets = sets[final_len:]\n",
    "    for i in range(len(changing_sets)):\n",
    "        sets.append(mutation(changing_sets[i]))\n",
    "    return sets + static_sets"
   ]
  },
  {
   "cell_type": "markdown",
   "metadata": {},
   "source": [
    "Формирование новой популяции (кол-во особей - константа): 5.1 замена не более 30% худших особей на потомков "
   ]
  },
  {
   "cell_type": "code",
   "execution_count": 53,
   "metadata": {
    "pycharm": {
     "is_executing": false
    }
   },
   "outputs": [],
   "source": [
    "def set_new_population(children, sets, data):\n",
    "    fitness_for_sets = []\n",
    "    for i in range(len(sets)):\n",
    "        fitness_for_sets.append(fitness(sets[i], data))\n",
    "    fitnesses = {}\n",
    "    for i in range(len(fitness_for_sets)):\n",
    "        fitnesses[i] = fitness_for_sets[i]\n",
    "    fitnesses = sorted(fitnesses.items(), key=lambda item: item[1])\n",
    "    final_len = round(len(sets) * 0.3)\n",
    "    for i in range(len(children) if len(children) < final_len else final_len):\n",
    "        current_parent = fitnesses[i]\n",
    "        sets[current_parent[0]] = children[i]\n",
    "    return sets"
   ]
  },
  {
   "cell_type": "code",
   "execution_count": 54,
   "metadata": {
    "pycharm": {
     "is_executing": false
    }
   },
   "outputs": [],
   "source": [
    "current_sets = rand_gen()\n",
    "max_fitness = get_max_fitness(current_sets)\n",
    "current_count = 0\n",
    "\n",
    "for i in range(500):\n",
    "    filters_sets = set_filter(current_sets)\n",
    "    children = set_cross(filters_sets)\n",
    "    final_children = set_mutation(children)\n",
    "    current_sets = set_new_population(final_children, current_sets, all_data['items'])\n",
    "    prev_max_fitness = max_fitness\n",
    "    max_fitness = get_max_fitness(current_sets)\n",
    "    current_percent = abs((max_fitness - prev_max_fitness) / ((max_fitness + prev_max_fitness) / 2)) * 100\n",
    "    if current_percent == 0:\n",
    "        current_count += 1\n",
    "    if current_count > 10:\n",
    "        break\n",
    "        \n",
    "result_weight = 0\n",
    "result_volume = 0\n",
    "result_price = 0\n",
    "result_sum = []\n",
    "result_set = []\n",
    "for i in range(len(current_sets)):\n",
    "    fitness_for_set = fitness(current_sets[i], all_data['items'])\n",
    "    if fitness_for_set == max_fitness:\n",
    "        result_set = current_sets[i]\n",
    "for i in range(len(result_set)):\n",
    "    if result_set[i] > 0:\n",
    "        result_weight += all_data['items'][i][0]\n",
    "        result_volume += all_data['items'][i][1]\n",
    "        result_price += all_data['items'][i][2]\n",
    "        result_sum.append(i)\n",
    "res = {\n",
    "    'weight': result_weight,\n",
    "    'volume': result_volume,\n",
    "    'price': result_price,\n",
    "    'items': result_sum\n",
    "}\n",
    "with open('result_2.json', 'w') as file:\n",
    "    json.dump(res, file)"
   ]
  },
  {
   "cell_type": "code",
   "execution_count": null,
   "metadata": {
    "pycharm": {
     "is_executing": false
    }
   },
   "outputs": [],
   "source": []
  },
  {
   "cell_type": "code",
   "execution_count": null,
   "metadata": {
    "pycharm": {
     "is_executing": false
    }
   },
   "outputs": [],
   "source": []
  }
 ],
 "metadata": {
  "kernelspec": {
   "display_name": "Python 3",
   "language": "python",
   "name": "python3"
  },
  "language_info": {
   "codemirror_mode": {
    "name": "ipython",
    "version": 3
   },
   "file_extension": ".py",
   "mimetype": "text/x-python",
   "name": "python",
   "nbconvert_exporter": "python",
   "pygments_lexer": "ipython3",
   "version": "3.7.3"
  },
  "pycharm": {
   "stem_cell": {
    "cell_type": "raw",
    "metadata": {
     "collapsed": false
    },
    "source": []
   }
  }
 },
 "nbformat": 4,
 "nbformat_minor": 1
}
