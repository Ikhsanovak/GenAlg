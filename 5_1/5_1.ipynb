{
 "cells": [
  {
   "cell_type": "code",
   "execution_count": 50,
   "metadata": {},
   "outputs": [],
   "source": [
    "from pyeasyga import pyeasyga\n",
    "from numpy import genfromtxt\n",
    "import json"
   ]
  },
  {
   "cell_type": "code",
   "execution_count": 51,
   "metadata": {},
   "outputs": [],
   "source": [
    "def get_data():\n",
    "    with open('6.txt') as file:\n",
    "       max_weight, max_volume = [float(i) for i in next(file).split()]\n",
    "       data = genfromtxt('6.txt', delimiter=' ', dtype=(int, float, int), skip_header=1)\n",
    "    return {\n",
    "        'max_weight': int(max_weight),\n",
    "        'max_volume': float(max_volume),\n",
    "        'items': data.tolist()\n",
    "}\n",
    "\n",
    "all_data = get_data()"
   ]
  },
  {
   "cell_type": "code",
   "execution_count": 52,
   "metadata": {},
   "outputs": [],
   "source": [
    "def fitness(individual, data):\n",
    "    weight, volume, price = 0, 0, 0\n",
    "    for (selected, item) in zip(individual, data):\n",
    "        if selected:\n",
    "            weight += int(item[0])\n",
    "            volume += int(item[1])\n",
    "            price += int(item[2])\n",
    "    if weight > all_data['max_weight'] or volume > all_data['max_volume']:\n",
    "        price = 0\n",
    "    return price"
   ]
  },
  {
   "cell_type": "code",
   "execution_count": 53,
   "metadata": {},
   "outputs": [],
   "source": [
    "gen_alg = pyeasyga.GeneticAlgorithm(all_data['items'])\n",
    "gen_alg.population_size = 200\n",
    "gen_alg.fitness_function = fitness\n",
    "gen_alg.run()\n",
    "result = gen_alg.best_individual()"
   ]
  },
  {
   "cell_type": "code",
   "execution_count": 54,
   "metadata": {},
   "outputs": [],
   "source": [
    "result_weight = 0\n",
    "result_volume = 0\n",
    "result_price = 0\n",
    "items = []\n",
    "\n",
    "for i in range(len(result[1])):\n",
    "    if result[1][i] == 1:\n",
    "        items.append(i+1)\n",
    "\n",
    "for i in range(len(items)):\n",
    "    result_volume += all_data['items'][items[i]-1][1]\n",
    "    result_weight += all_data['items'][items[i]-1][0]\n",
    "    result_price += all_data['items'][items[i]-1][2]\n",
    "    \n",
    "res = {\n",
    "    'weight': result_weight,\n",
    "    'volume': result_volume,\n",
    "    'price': result_price,\n",
    "    'items': items\n",
    "}\n",
    "with open('result_1.json', 'w') as file:\n",
    "    json.dump(res, file)"
   ]
  },
  {
   "cell_type": "code",
   "execution_count": null,
   "metadata": {},
   "outputs": [],
   "source": []
  }
 ],
 "metadata": {
  "kernelspec": {
   "display_name": "Python 2",
   "language": "python",
   "name": "python2"
  },
  "language_info": {
   "codemirror_mode": {
    "name": "ipython",
    "version": 2
   },
   "file_extension": ".py",
   "mimetype": "text/x-python",
   "name": "python",
   "nbconvert_exporter": "python",
   "pygments_lexer": "ipython2",
   "version": "2.7.17"
  }
 },
 "nbformat": 4,
 "nbformat_minor": 1
}
